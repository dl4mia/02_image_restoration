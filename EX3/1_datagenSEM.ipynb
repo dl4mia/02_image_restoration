{
 "cells": [
  {
   "cell_type": "code",
   "execution_count": null,
   "metadata": {},
   "outputs": [],
   "source": [
    "from __future__ import print_function, unicode_literals, absolute_import, division\n",
    "import numpy as np\n",
    "import matplotlib.pyplot as plt\n",
    "%matplotlib inline\n",
    "%config InlineBackend.figure_format = 'retina'\n",
    "\n",
    "from tifffile import imread\n",
    "from csbdeep.utils import download_and_extract_zip_file, plot_some\n",
    "from csbdeep.data import RawData, create_patches\n",
    "from tqdm import tqdm_notebook as tqdm\n",
    "import os\n",
    "import glob\n",
    "from tifffile import imwrite"
   ]
  },
  {
   "cell_type": "markdown",
   "metadata": {},
   "source": [
    "After downloading and unzipping the SEM data as described in the exercise sheet, let's have a look at it"
   ]
  },
  {
   "cell_type": "code",
   "execution_count": null,
   "metadata": {},
   "outputs": [],
   "source": [
    "#For one image only\n",
    "data = imread('data/SEM/train/train.tif')\n",
    "\n",
    "fig, axs = plt.subplots(nrows=2, ncols=4, figsize=(20,16))\n",
    "scantimes = [\"0.2us\", \"0.5us\", \"1us\", \"1us\", \"2.1us\", \"5us\", \"5us, avg of 4\"]\n",
    "for idx, scantime in enumerate(scantimes):\n",
    "    ax_idx = np.unravel_index(idx, (2,4))\n",
    "    axs[ax_idx].imshow(data[idx], cmap=\"magma\")\n",
    "    axs[ax_idx].set_title(scantime)"
   ]
  },
  {
   "cell_type": "markdown",
   "metadata": {},
   "source": [
    "<hr style=\"height:2px;\">\n",
    "\n",
    "# Generate training data for CARE\n",
    "\n",
    "WUnlike in the original notebook, our data is not already organized into input (`low`) and target images (`GT`), we have to figure out how to do this ourselves.\n",
    "\n",
    "First we wanna train a network for images of 1us scan time, so we will use those two images as our input images. For both of these images we can use every other image as our target - as long as the noise is different the only remaining structure is the signal, so mixing different scan times is totally fine.\n",
    "\n",
    "Images are paired (as input and target) by having the same name in the `source_dirs` and `target_dir`. This means we'll have several copies of the same image with different names. These images aren't too big, so that's fine."
   ]
  },
  {
   "cell_type": "code",
   "execution_count": null,
   "metadata": {},
   "outputs": [],
   "source": [
    "if  len(glob.glob(\"data/SEM/train/low/*.tif\"))>0:\n",
    "    os.system(\"rm data/SEM/train/low/*.tif\")\n",
    "if len(glob.glob(\"data/SEM/train/GT/*.tif\"))>0:\n",
    "    os.system(\"rm data/SEM/train/GT/*.tif\")\n",
    "counter=0\n",
    "\n",
    "for i in range(2,4):\n",
    "    for j in range(data.shape[0]):\n",
    "        if i == j:\n",
    "            continue\n",
    "        imwrite('data/SEM/train/low/'+str(counter)+'.tif',data[i,...])\n",
    "        imwrite('data/SEM/train/GT/'+str(counter)+'.tif',data[j,...])\n",
    "        counter+=1\n",
    "        "
   ]
  },
  {
   "cell_type": "markdown",
   "metadata": {},
   "source": [
    "Bonus: uncomment to instead use every image as an input, targeting with every other image"
   ]
  },
  {
   "cell_type": "code",
   "execution_count": null,
   "metadata": {},
   "outputs": [],
   "source": [
    "# if  len(glob.glob(\"data/SEM/train/low/*.tif\"))>0:\n",
    "#     os.system(\"rm data/SEM/train/low/*.tif\")\n",
    "# if len(glob.glob(\"data/SEM/train/GT/*.tif\"))>0:\n",
    "#     os.system(\"rm data/SEM/train/GT/*.tif\")\n",
    "# counter=0\n",
    "\n",
    "# for i in range(data.shape[0]):\n",
    "#     for j in range(data.shape[0]):\n",
    "#         if i == j:\n",
    "#             continue\n",
    "#         imwrite('data/SEM/train/low/'+str(counter)+'.tif',data[i,...])\n",
    "#         imwrite('data/SEM/train/GT/'+str(counter)+'.tif',data[j,...])\n",
    "#         counter+=1\n",
    "    "
   ]
  },
  {
   "cell_type": "code",
   "execution_count": null,
   "metadata": {},
   "outputs": [],
   "source": [
    "raw_data = RawData.from_folder (\n",
    "    basepath    = 'data/SEM/train/',\n",
    "    source_dirs = ['low'],\n",
    "    target_dir  = 'GT',\n",
    "    axes        = 'YX',\n",
    ")"
   ]
  },
  {
   "cell_type": "markdown",
   "metadata": {},
   "source": [
    "\n",
    "\n",
    "From corresponding stacks, we now generate some 2D patches.\n"
   ]
  },
  {
   "cell_type": "code",
   "execution_count": null,
   "metadata": {
    "scrolled": false
   },
   "outputs": [],
   "source": [
    "X, Y, XY_axes = create_patches (\n",
    "    raw_data            = raw_data,\n",
    "    patch_size          = (64,64),\n",
    "    n_patches_per_image = 1024,\n",
    "    save_file           = 'data/my_SEM_training_data.npz',\n",
    ")"
   ]
  },
  {
   "cell_type": "code",
   "execution_count": null,
   "metadata": {},
   "outputs": [],
   "source": [
    "assert X.shape == Y.shape\n",
    "print(\"shape of X,Y =\", X.shape)\n",
    "print(\"axes  of X,Y =\", XY_axes)"
   ]
  },
  {
   "cell_type": "markdown",
   "metadata": {},
   "source": [
    "## Show\n",
    "\n",
    "This shows the maximum projection of some of the generated patch pairs (odd rows: *source*, even rows: *target*)"
   ]
  },
  {
   "cell_type": "code",
   "execution_count": null,
   "metadata": {},
   "outputs": [],
   "source": [
    "for i in range(2):\n",
    "    plt.figure(figsize=(16,4))\n",
    "    sl = slice(8*i, 8*(i+1)), 0\n",
    "    plot_some(X[sl],Y[sl],title_list=[np.arange(sl[0].start,sl[0].stop)])\n",
    "    plt.show()\n",
    "None;"
   ]
  },
  {
   "cell_type": "code",
   "execution_count": null,
   "metadata": {},
   "outputs": [],
   "source": []
  }
 ],
 "metadata": {
  "kernelspec": {
   "display_name": "Python 3",
   "language": "python",
   "name": "python3"
  },
  "language_info": {
   "codemirror_mode": {
    "name": "ipython",
    "version": 3
   },
   "file_extension": ".py",
   "mimetype": "text/x-python",
   "name": "python",
   "nbconvert_exporter": "python",
   "pygments_lexer": "ipython3",
   "version": "3.7.6"
  }
 },
 "nbformat": 4,
 "nbformat_minor": 2
}

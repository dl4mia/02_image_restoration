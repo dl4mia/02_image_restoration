{
 "cells": [
  {
   "cell_type": "markdown",
   "metadata": {},
   "source": [
    "<hr style=\"height:2px;\">\n",
    "\n",
    "# Demo: Apply trained CARE model for denoising of SEM castaneum\n",
    "\n",
    "The trained model is assumed to be located in the folder models with the name my_SEM_model.\n",
    "\n",
    "More documentation is available at http://csbdeep.bioimagecomputing.com/doc/."
   ]
  },
  {
   "cell_type": "code",
   "execution_count": null,
   "metadata": {},
   "outputs": [],
   "source": [
    "from __future__ import print_function, unicode_literals, absolute_import, division\n",
    "import numpy as np\n",
    "import matplotlib.pyplot as plt\n",
    "%matplotlib inline\n",
    "%config InlineBackend.figure_format = 'retina'\n",
    "\n",
    "from tifffile import imread\n",
    "from csbdeep.utils import Path, download_and_extract_zip_file, plot_some\n",
    "from csbdeep.io import save_tiff_imagej_compatible\n",
    "from csbdeep.models import CARE"
   ]
  },
  {
   "cell_type": "markdown",
   "metadata": {},
   "source": [
    "<hr style=\"height:2px;\">\n",
    "\n",
    "# Raw low-SNR image and associated high-SNR ground truth\n",
    "\n",
    "Plot the test stack pair and define its image axes, which will be needed later for CARE prediction."
   ]
  },
  {
   "cell_type": "code",
   "execution_count": null,
   "metadata": {},
   "outputs": [],
   "source": [
    "# Load data, we are looking at the 1.0 usec data (slice 3)\n",
    "Xtest_1us=imread('data/SEM/test/test.tif').astype(np.float32)[3,:,:,np.newaxis]\n",
    "\n",
    "#Show input, we are zooming in a bit.\n",
    "plt.figure(figsize=(7,7))\n",
    "plt.imshow(Xtest_1us[1500:,:,0],cmap=\"magma\")\n",
    "plt.show()"
   ]
  },
  {
   "cell_type": "markdown",
   "metadata": {},
   "source": [
    "<hr style=\"height:2px;\">\n",
    "\n",
    "# CARE model\n",
    "\n",
    "Load trained model (located in base directory `models` with name `my_model`) from disk.  \n",
    "The configuration was saved during training and is automatically loaded when `CARE` is initialized with `config=None`."
   ]
  },
  {
   "cell_type": "code",
   "execution_count": null,
   "metadata": {},
   "outputs": [],
   "source": [
    "model = CARE(config=None, name='my_SEM_model', basedir='models')"
   ]
  },
  {
   "cell_type": "markdown",
   "metadata": {},
   "source": [
    "## Apply CARE network to raw image\n",
    "\n",
    "Predict the restored image (image will be successively split into smaller tiles if there are memory issues)."
   ]
  },
  {
   "cell_type": "code",
   "execution_count": null,
   "metadata": {},
   "outputs": [],
   "source": [
    "%%time\n",
    "restored_1us = model.predict(Xtest_1us, 'YXC')"
   ]
  },
  {
   "cell_type": "code",
   "execution_count": null,
   "metadata": {},
   "outputs": [],
   "source": [
    "#Show input, we are zooming in a bit.\n",
    "plt.figure(figsize=(7,7))\n",
    "plt.imshow(Xtest[1500:,:,0],cmap=\"magma\")\n",
    "plt.show()\n",
    "\n",
    "#Show result, we are zooming in a bit.\n",
    "plt.figure(figsize=(7,7))\n",
    "plt.imshow(restored[1500:,:,0],cmap=\"magma\")\n",
    "plt.show()"
   ]
  },
  {
   "cell_type": "markdown",
   "metadata": {},
   "source": [
    "<hr style=\"height:2px;\">\n",
    "\n",
    "# Other scan times\n",
    "\n",
    "Let's have a look at what happens if we apply this model to the other scan times."
   ]
  },
  {
   "cell_type": "code",
   "execution_count": null,
   "metadata": {},
   "outputs": [],
   "source": [
    "# pick an image/scantime\n",
    "img_slice = 6\n",
    "#Show input, we are zooming in a bit.\n",
    "plt.figure(figsize=(7,7))\n",
    "plt.imshow(Xtest[img_slice,1000:1600,0:600,0],cmap=\"magma\")\n",
    "plt.title(\"Input for {scantime:}\".format(scantime=scantimes[img_slice]))\n",
    "plt.show()\n",
    "\n",
    "#Show result, we are zooming in a bit.\n",
    "plt.figure(figsize=(7,7))\n",
    "plt.imshow(restored[img_slice,1000:1600,0:600,0],cmap=\"magma\")\n",
    "plt.title(\"Output for {scantime:}\".format(scantime=scantimes[img_slice]))\n",
    "plt.show()"
   ]
  },
  {
   "cell_type": "code",
   "execution_count": null,
   "metadata": {},
   "outputs": [],
   "source": []
  }
 ],
 "metadata": {
  "kernelspec": {
   "display_name": "Python 3",
   "language": "python",
   "name": "python3"
  },
  "language_info": {
   "codemirror_mode": {
    "name": "ipython",
    "version": 3
   },
   "file_extension": ".py",
   "mimetype": "text/x-python",
   "name": "python",
   "nbconvert_exporter": "python",
   "pygments_lexer": "ipython3",
   "version": "3.7.6"
  }
 },
 "nbformat": 4,
 "nbformat_minor": 2
}
